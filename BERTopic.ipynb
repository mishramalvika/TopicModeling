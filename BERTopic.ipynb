{
  "nbformat": 4,
  "nbformat_minor": 0,
  "metadata": {
    "colab": {
      "provenance": []
    },
    "kernelspec": {
      "name": "python3",
      "display_name": "Python 3"
    },
    "language_info": {
      "name": "python"
    }
  },
  "cells": [
    {
      "cell_type": "code",
      "source": [
        "!pip install spacy\n",
        "!python -m spacy download en_core_web_sm\n",
        "import spacy\n",
        "nlp = spacy.load(\"en_core_web_sm\")"
      ],
      "metadata": {
        "id": "OfkLwGSlssrn"
      },
      "execution_count": null,
      "outputs": []
    },
    {
      "cell_type": "code",
      "source": [
        "!pip install BERTopic\n",
        "from bertopic import BERTopic"
      ],
      "metadata": {
        "id": "M1VlKFy-teCa"
      },
      "execution_count": null,
      "outputs": []
    },
    {
      "cell_type": "code",
      "source": [
        "import pandas as pd\n",
        "df = pd.read_csv('/content/CombinedAbstracts.csv', )"
      ],
      "metadata": {
        "id": "4ibHhDDPtmyQ"
      },
      "execution_count": null,
      "outputs": []
    },
    {
      "cell_type": "code",
      "source": [
        "df=df.iloc[0:2978]"
      ],
      "metadata": {
        "id": "rupv6PNUtt1N"
      },
      "execution_count": null,
      "outputs": []
    },
    {
      "cell_type": "code",
      "source": [
        "df['abstract']= df['abstract'].astype(str)\n",
        "abstracts = list(nlp.pipe(df.abstract))"
      ],
      "metadata": {
        "id": "6bV0enBCtyiD"
      },
      "execution_count": null,
      "outputs": []
    },
    {
      "cell_type": "code",
      "source": [
        "tokens = []\n",
        "for abstract in abstracts:\n",
        "   proj_tok = [token.lemma_.lower() for token in abstract if not token.is_stop and token.is_alpha]\n",
        "   tokens.append(proj_tok)"
      ],
      "metadata": {
        "id": "7gi59RSkpWKc"
      },
      "execution_count": null,
      "outputs": []
    },
    {
      "cell_type": "code",
      "source": [
        "def listToString(s):\n",
        "    str1 = \"\"\n",
        "    for ele in s:\n",
        "        str1 = str1 + \" \" +ele\n",
        "    return str1"
      ],
      "metadata": {
        "id": "0gik_hxNvZlC"
      },
      "execution_count": null,
      "outputs": []
    },
    {
      "cell_type": "code",
      "source": [
        "df['tokens'] = tokens\n",
        "tokenizedAbstracts=[]\n",
        "for tokenlist in tokens:\n",
        "    string=listToString(tokenlist)\n",
        "    tokenizedAbstracts.append(string)\n",
        "df['tokenizedAbstract']=tokenizedAbstracts"
      ],
      "metadata": {
        "id": "j9JqHRXTuuS8"
      },
      "execution_count": null,
      "outputs": []
    },
    {
      "cell_type": "code",
      "source": [
        "df['tokenizedAbstract'][0]"
      ],
      "metadata": {
        "id": "9jr_3etIwBH7"
      },
      "execution_count": null,
      "outputs": []
    },
    {
      "cell_type": "code",
      "source": [
        "topic_model = BERTopic(embedding_model=nlp)"
      ],
      "metadata": {
        "id": "e_pGrUtRt0TS"
      },
      "execution_count": null,
      "outputs": []
    },
    {
      "cell_type": "code",
      "source": [
        "topics, probs = topic_model.fit_transform(df['tokenizedAbstract'])"
      ],
      "metadata": {
        "id": "FgkBB-WxQSG_"
      },
      "execution_count": null,
      "outputs": []
    },
    {
      "cell_type": "code",
      "source": [
        "topic_labels = topic_model.generate_topic_labels(nr_words=1, separator=\", \")\n",
        "topic_labels"
      ],
      "metadata": {
        "id": "rnAOgJwLt6Mi"
      },
      "execution_count": null,
      "outputs": []
    },
    {
      "cell_type": "code",
      "source": [
        "fig = topic_model.visualize_topics()\n",
        "fig.show()"
      ],
      "metadata": {
        "id": "modx2Gdq3nQt"
      },
      "execution_count": null,
      "outputs": []
    },
    {
      "cell_type": "code",
      "source": [
        "topic_labels = topic_model.generate_topic_labels(nr_words=10, separator=\", \")\n",
        "topic_labels"
      ],
      "metadata": {
        "id": "QUCJ_DgCQP_J"
      },
      "execution_count": null,
      "outputs": []
    },
    {
      "cell_type": "code",
      "source": [
        "all_topics = topic_model.get_topics()"
      ],
      "metadata": {
        "id": "MWruFH0jTTXa"
      },
      "execution_count": null,
      "outputs": []
    },
    {
      "cell_type": "code",
      "source": [
        "all_topics"
      ],
      "metadata": {
        "id": "JgZ_xH01TVKI"
      },
      "execution_count": null,
      "outputs": []
    },
    {
      "cell_type": "code",
      "source": [
        "document_info = topic_model.get_document_info(df['tokenizedAbstract'])"
      ],
      "metadata": {
        "id": "_dR2QhBYVjGq"
      },
      "execution_count": null,
      "outputs": []
    },
    {
      "cell_type": "code",
      "source": [
        "document_info"
      ],
      "metadata": {
        "id": "4WcaqqxcfWtz"
      },
      "execution_count": null,
      "outputs": []
    },
    {
      "cell_type": "code",
      "source": [
        "topics=document_info.Topic"
      ],
      "metadata": {
        "id": "GRBIChKefgqq"
      },
      "execution_count": null,
      "outputs": []
    },
    {
      "cell_type": "code",
      "source": [
        "df[\"Topic\"]=topics"
      ],
      "metadata": {
        "id": "i6bUVZZFfncE"
      },
      "execution_count": null,
      "outputs": []
    },
    {
      "cell_type": "code",
      "source": [
        "df.head()"
      ],
      "metadata": {
        "id": "BgyRrSlUftU7"
      },
      "execution_count": null,
      "outputs": []
    },
    {
      "cell_type": "code",
      "source": [
        "from wordcloud import WordCloud\n",
        "import matplotlib.pyplot as plt\n"
      ],
      "metadata": {
        "id": "ISdqu5KzV4V3"
      },
      "execution_count": null,
      "outputs": []
    },
    {
      "cell_type": "code",
      "source": [
        "def create_wordcloud(topic_model, topic):\n",
        "    text = {word: value for word, value in topic_model.get_topic(topic)}\n",
        "    wc = WordCloud(background_color=\"white\", max_words=1000)\n",
        "    wc.generate_from_frequencies(text)\n",
        "    plt.imshow(wc, interpolation=\"bilinear\")\n",
        "    plt.axis(\"off\")\n",
        "    plt.show()"
      ],
      "metadata": {
        "id": "lr3OghS2V7WY"
      },
      "execution_count": null,
      "outputs": []
    },
    {
      "cell_type": "code",
      "source": [
        "labels={\n",
        "-1: \"No topic\",\n",
        "0: 'Game-Theoretic Matching',\n",
        "1:'Market model',\n",
        "2:'Mechanism design',\n",
        "3:'Auction theory',\n",
        "4:'Market analysis',\n",
        "5:'Agent-based modeling',\n",
        "6:'Neural network modeling',\n",
        "7:'Financial portfolio theory',\n",
        "8:'Market policy',\n",
        "9:'Market equilibrium',\n",
        "10:'Game theory',\n",
        "11:'Market pricing',\n",
        "12:'Machine learning',\n",
        "13:'Oil market analysis',\n",
        "14:'Resource allocation',\n",
        "15:'Auction mechanism design',\n",
        "16:'Wealth management',\n",
        "17:'Econometric modeling',\n",
        "18:'Retail market analysis',\n",
        "19:'Computational game theory',\n",
        "20:'Numerical optimization',\n",
        "21:'Traffic modeling',\n",
        "22:'Online advertising',\n",
        "23:'Carbon pricing',\n",
        "24:'Audit mechanism design',\n",
        "25:'Financial settlement',\n",
        "26:'Capital simulation modeling'}\n"
      ],
      "metadata": {
        "id": "9nZWLnE0V8lR"
      },
      "execution_count": null,
      "outputs": []
    },
    {
      "cell_type": "code",
      "source": [
        "for i in range(20):\n",
        "    create_wordcloud(topic_model, topic=i)\n",
        "    key=(i)\n",
        "    print()\n",
        "    print()"
      ],
      "metadata": {
        "id": "gHp0iVjp9pzx"
      },
      "execution_count": null,
      "outputs": []
    },
    {
      "cell_type": "code",
      "source": [
        "topic_model.set_topic_labels({\n",
        "0: 'Industrial Organization',\n",
        "1:'Financial Modeling',\n",
        "2:'Mechanism Design Theory',\n",
        "3:'Market Analysis',\n",
        "4:'Game Theory',\n",
        "5:'Econometrics',\n",
        "6:'Computational Economics',\n",
        "7:'Microeconomics',\n",
        "8:'General Equilibrium Theory',\n",
        "9:'Development Economics',\n",
        "10:'Behavioral Economics',\n",
        "11:'Energy Economics',\n",
        "12:'Econometrics',\n",
        "13:'Data Mining',\n",
        "14:'Game Theory',\n",
        "15:    'Auction Theory',\n",
        "16:    'Optimization',\n",
        "17:    'Fair Division Theory',\n",
        "18:  'Mechanism Design Theory',\n",
        "19:    'Behavioral Economics'\n",
        "})"
      ],
      "metadata": {
        "id": "T2nzudyTZqeL"
      },
      "execution_count": null,
      "outputs": []
    },
    {
      "cell_type": "code",
      "source": [
        "topics_over_time = topic_model.topics_over_time(df['tokenizedAbstract'], df['year'], nr_bins=10)\n"
      ],
      "metadata": {
        "id": "_I7xfD_XahIp"
      },
      "execution_count": null,
      "outputs": []
    },
    {
      "cell_type": "code",
      "source": [
        "topics_over_time"
      ],
      "metadata": {
        "id": "UtfI7v04ar95"
      },
      "execution_count": null,
      "outputs": []
    },
    {
      "cell_type": "code",
      "source": [
        "topic_model.visualize_barchart(top_n_topics=30, custom_labels=True)\n"
      ],
      "metadata": {
        "id": "0wThEED6bE7S"
      },
      "execution_count": null,
      "outputs": []
    },
    {
      "cell_type": "code",
      "source": [
        "topic_model.visualize_distribution(topic_model.probabilities_)\n"
      ],
      "metadata": {
        "id": "jZjxmrh2bf-U"
      },
      "execution_count": null,
      "outputs": []
    },
    {
      "cell_type": "code",
      "source": [
        "topic_model.visualize_documents(df['tokenizedAbstract'],custom_labels=True)"
      ],
      "metadata": {
        "id": "YZ4dyWtBc2cv"
      },
      "execution_count": null,
      "outputs": []
    },
    {
      "cell_type": "code",
      "source": [
        "topic_model.visualize_heatmap(custom_labels= True)\n"
      ],
      "metadata": {
        "id": "VVrXNG9Agzao"
      },
      "execution_count": null,
      "outputs": []
    },
    {
      "cell_type": "code",
      "source": [
        "topics_over_time = topic_model.topics_over_time(df['tokenizedAbstract'], df['year'], nr_bins=10)\n",
        "topic_model.visualize_topics_over_time(topics_over_time, custom_labels=True)"
      ],
      "metadata": {
        "id": "Tcqd3ZiuhPLG"
      },
      "execution_count": null,
      "outputs": []
    },
    {
      "cell_type": "code",
      "source": [
        "topics_over_time = topic_model.topics_over_time(df['tokenizedAbstract'], df['year'], nr_bins=20)\n",
        "topic_model.visualize_topics_over_time(topics_over_time, custom_labels=True)"
      ],
      "metadata": {
        "id": "sT77-KELlyUz"
      },
      "execution_count": null,
      "outputs": []
    },
    {
      "cell_type": "code",
      "source": [
        "topics_over_time = topic_model.topics_over_time(df['tokenizedAbstract'], df['year'], nr_bins=50)\n",
        "topic_model.visualize_topics_over_time(topics_over_time, custom_labels=True)"
      ],
      "metadata": {
        "id": "poUPkixYoZ4V"
      },
      "execution_count": null,
      "outputs": []
    },
    {
      "cell_type": "code",
      "source": [
        "df.to_csv('topicss.csv')\n"
      ],
      "metadata": {
        "id": "4KojFte5l7Gl"
      },
      "execution_count": null,
      "outputs": []
    },
    {
      "cell_type": "code",
      "source": [
        "document_info.to_csv('documents_info.csv')"
      ],
      "metadata": {
        "id": "kgWrg9Xnm8JD"
      },
      "execution_count": null,
      "outputs": []
    },
    {
      "cell_type": "code",
      "source": [
        "topic_model.visualize_term_rank()"
      ],
      "metadata": {
        "id": "VCZ8_iOFnqfX"
      },
      "execution_count": null,
      "outputs": []
    },
    {
      "cell_type": "code",
      "source": [
        "hierarchical_topics = topic_model.hierarchical_topics(df['tokenizedAbstract'])\n",
        "\n",
        "# Visualize these representations\n",
        "topic_model.visualize_hierarchy(hierarchical_topics=hierarchical_topics, custom_labels=True)"
      ],
      "metadata": {
        "id": "sBgvi0R7nzmC"
      },
      "execution_count": null,
      "outputs": []
    }
  ]
}