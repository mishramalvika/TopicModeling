{
  "nbformat": 4,
  "nbformat_minor": 0,
  "metadata": {
    "colab": {
      "provenance": []
    },
    "kernelspec": {
      "name": "python3",
      "display_name": "Python 3"
    },
    "language_info": {
      "name": "python"
    }
  },
  "cells": [
    {
      "cell_type": "code",
      "execution_count": null,
      "metadata": {
        "id": "oUTc1QKdvVp_"
      },
      "outputs": [],
      "source": [
        "import pandas as pd\n",
        "df = pd.read_csv('/content/CombinedAbstracts.csv', )"
      ]
    },
    {
      "cell_type": "code",
      "source": [
        "!pip install spacy\n",
        "!python -m spacy download en_core_web_sm\n",
        "import spacy\n",
        "nlp = spacy.load(\"en_core_web_sm\")\n"
      ],
      "metadata": {
        "id": "bnwJHDCgvfrH"
      },
      "execution_count": null,
      "outputs": []
    },
    {
      "cell_type": "code",
      "source": [
        "df=df.iloc[0:2978]\n",
        "df['abstract']= df['abstract'].astype(str)\n",
        "abstracts = list(nlp.pipe(df.abstract))"
      ],
      "metadata": {
        "id": "kGy_UEE8vhw3"
      },
      "execution_count": null,
      "outputs": []
    },
    {
      "cell_type": "code",
      "source": [
        "import matplotlib.pyplot as plt\n",
        "import seaborn as sns\n",
        "sns.set()\n",
        "#!pip install pyLDAvis\n",
        "#import pyLDAvis.gensim_models\n",
        "#pyLDAvis.enable_notebook()# Visualise inside a notebook\n",
        "from gensim.corpora.dictionary import Dictionary\n",
        "#from gensim.models import LdaMulticore\n",
        "from gensim.models import CoherenceModel"
      ],
      "metadata": {
        "id": "c0zD2dZ2voYn"
      },
      "execution_count": null,
      "outputs": []
    },
    {
      "cell_type": "code",
      "source": [
        "tokens = []\n",
        "for summary in nlp.pipe(df['abstract']):\n",
        "   proj_tok = [token.lemma_.lower() for token in summary if not token.is_stop and token.is_alpha]\n",
        "   tokens.append(proj_tok)\n",
        "df['tokens'] = tokens\n",
        "dictionary = Dictionary(df['tokens'])\n",
        "print(dictionary.token2id)"
      ],
      "metadata": {
        "id": "83cE3Og1vrBe"
      },
      "execution_count": null,
      "outputs": []
    },
    {
      "cell_type": "code",
      "source": [
        "dictionary.filter_extremes(no_below=5, no_above=0.5)\n",
        "corpus = [dictionary.doc2bow(doc) for doc in df['tokens']]"
      ],
      "metadata": {
        "id": "jI9iRcfBv5do"
      },
      "execution_count": null,
      "outputs": []
    },
    {
      "cell_type": "code",
      "source": [
        "from gensim.models import LsiModel"
      ],
      "metadata": {
        "id": "jXLJA1SBwo3N"
      },
      "execution_count": null,
      "outputs": []
    },
    {
      "cell_type": "code",
      "source": [
        "lsa_model = LsiModel(corpus=corpus, num_topics=10, id2word=dictionary)"
      ],
      "metadata": {
        "id": "7EEJI-HWv7jQ"
      },
      "execution_count": null,
      "outputs": []
    },
    {
      "cell_type": "code",
      "source": [
        "topics = []\n",
        "score = []\n",
        "for i in range(1,20,1):\n",
        "   lsa_model = LsiModel(corpus=corpus, num_topics=10, id2word=dictionary)\n",
        "   cm = CoherenceModel(model=lsa_model, texts = df['tokens'], corpus=corpus, dictionary=dictionary, coherence='c_v')\n",
        "   topics.append(i)\n",
        "   score.append(cm.get_coherence())\n",
        "_=plt.plot(topics, score)\n",
        "_=plt.xlabel('Number of Topics')\n",
        "_=plt.ylabel('Coherence Score')\n",
        "plt.show()\n"
      ],
      "metadata": {
        "id": "ElAPnPzmxOZq"
      },
      "execution_count": null,
      "outputs": []
    },
    {
      "cell_type": "code",
      "source": [
        "lsa_model = LsiModel(corpus=corpus, num_topics=12, id2word=dictionary)"
      ],
      "metadata": {
        "id": "48J8oo1TyjB3"
      },
      "execution_count": null,
      "outputs": []
    },
    {
      "cell_type": "code",
      "source": [
        "first_doc = corpus[0]\n",
        "first_doc_lsi_topics = lsa_model[first_doc]"
      ],
      "metadata": {
        "id": "YfRF8Civb71x"
      },
      "execution_count": null,
      "outputs": []
    },
    {
      "cell_type": "code",
      "source": [
        "first_doc_lsi_topics"
      ],
      "metadata": {
        "id": "QJIBrqD-duQA"
      },
      "execution_count": null,
      "outputs": []
    },
    {
      "cell_type": "code",
      "source": [
        "all_doc_lsi_topics = lsa_model[corpus]\n"
      ],
      "metadata": {
        "id": "t9okH2P4ed3l"
      },
      "execution_count": null,
      "outputs": []
    },
    {
      "cell_type": "code",
      "source": [
        "all_doc_lsi_topics[0:2]"
      ],
      "metadata": {
        "id": "VyzlKdbFeqDG"
      },
      "execution_count": null,
      "outputs": []
    },
    {
      "cell_type": "code",
      "source": [
        "type(lsa_model[corpus][5])"
      ],
      "metadata": {
        "id": "xZK-3fn0oqbR"
      },
      "execution_count": null,
      "outputs": []
    },
    {
      "cell_type": "code",
      "source": [
        "def Sort_Tuple(tup):\n",
        " \n",
        "    # getting length of list of tuples\n",
        "    lst = len(tup)\n",
        "    for i in range(0, lst):\n",
        " \n",
        "        for j in range(0, lst-i-1):\n",
        "            if (tup[j][1] < tup[j + 1][1]):\n",
        "                temp = tup[j]\n",
        "                tup[j] = tup[j + 1]\n",
        "                tup[j + 1] = temp\n",
        "    return tup"
      ],
      "metadata": {
        "id": "XEGX_RGqppTi"
      },
      "execution_count": null,
      "outputs": []
    },
    {
      "cell_type": "code",
      "source": [
        "Sort_Tuple(lsa_model[corpus][5])[1]"
      ],
      "metadata": {
        "id": "m6GeS30tpr_H"
      },
      "execution_count": null,
      "outputs": []
    },
    {
      "cell_type": "code",
      "source": [
        "df['topic'] = [Sort_Tuple(lsa_model[corpus][text])[1][0] for text in range(0, len(df['abstract']))]"
      ],
      "metadata": {
        "id": "9Vgk3Ws8oOkT"
      },
      "execution_count": null,
      "outputs": []
    },
    {
      "cell_type": "code",
      "source": [
        "df.topic.value_counts()"
      ],
      "metadata": {
        "id": "9T0hB8GZoW_b"
      },
      "execution_count": null,
      "outputs": []
    },
    {
      "cell_type": "code",
      "source": [
        "df2=df.groupby(['year', 'topic'])['topic'].count()"
      ],
      "metadata": {
        "id": "H-G8j4neqlF5"
      },
      "execution_count": null,
      "outputs": []
    },
    {
      "cell_type": "code",
      "source": [
        "df2.to_csv('lsatopics_years')"
      ],
      "metadata": {
        "id": "J2raOUtBqoyY"
      },
      "execution_count": null,
      "outputs": []
    },
    {
      "cell_type": "code",
      "source": [
        "df2=pd.read_csv('/content/lsatopics_years')"
      ],
      "metadata": {
        "id": "NwDzi47Bq3Q4"
      },
      "execution_count": null,
      "outputs": []
    },
    {
      "cell_type": "code",
      "source": [
        "df2.head()"
      ],
      "metadata": {
        "id": "QZDp0uT_q_b4"
      },
      "execution_count": null,
      "outputs": []
    },
    {
      "cell_type": "code",
      "source": [
        "df3=pd.DataFrame({'Year': [\n",
        "1988,\n",
        "1989,\n",
        "1990,\n",
        "1991,\n",
        "1992,\n",
        "1993,\n",
        "1994,\n",
        "1995,\n",
        "1996,\n",
        "1997,\n",
        "1998,\n",
        "1999,\n",
        "2000,\n",
        "2001,\n",
        "2002,\n",
        "2003,\n",
        "2004,\n",
        "2005,\n",
        "2006,\n",
        "2007,\n",
        "2008,\n",
        "2009,\n",
        "2010,\n",
        "2011,\n",
        "2012,\n",
        "2013,\n",
        "2014,\n",
        "2015,\n",
        "2016,\n",
        "2017,\n",
        "2018,\n",
        "2019,\n",
        "2020,\n",
        "2021,\n",
        "2022,\n",
        "2023]})"
      ],
      "metadata": {
        "id": "IvD3dapTrIxI"
      },
      "execution_count": null,
      "outputs": []
    },
    {
      "cell_type": "code",
      "source": [
        "lst=[\n",
        "'0',\n",
        "'1',\n",
        "'2',\n",
        "'3',\n",
        "'4',\n",
        "'5',\n",
        "'6',\n",
        "'7',\n",
        "'8',\n",
        "'9',\n",
        "'10',\n",
        "'11']\n",
        "for i in lst:\n",
        "    df3[i]=[0]*36"
      ],
      "metadata": {
        "id": "fHuEObhirS1n"
      },
      "execution_count": null,
      "outputs": []
    },
    {
      "cell_type": "code",
      "source": [
        "df3.head()"
      ],
      "metadata": {
        "id": "A8Xj6yoYrixx"
      },
      "execution_count": null,
      "outputs": []
    },
    {
      "cell_type": "code",
      "source": [
        "df2.shape"
      ],
      "metadata": {
        "id": "RBbNtZnVrrfR"
      },
      "execution_count": null,
      "outputs": []
    },
    {
      "cell_type": "code",
      "source": [
        "for i in range(373):\n",
        "    a=df2.iloc[i]\n",
        "    for i in range(13):\n",
        "        if a.topic==i:\n",
        "            y=a.year\n",
        "            df3.iloc[int(y-1988),i+1]=a.count"
      ],
      "metadata": {
        "id": "avGHnuBRrqYv"
      },
      "execution_count": null,
      "outputs": []
    },
    {
      "cell_type": "code",
      "source": [
        "df3.head()"
      ],
      "metadata": {
        "id": "kC4iHaA6tzR9"
      },
      "execution_count": null,
      "outputs": []
    },
    {
      "cell_type": "code",
      "source": [
        "lsa_model.show_topics(num_topics=-1, num_words=10, log=False, formatted=True)"
      ],
      "metadata": {
        "id": "_qaejlRvzI9r"
      },
      "execution_count": null,
      "outputs": []
    }
  ]
}